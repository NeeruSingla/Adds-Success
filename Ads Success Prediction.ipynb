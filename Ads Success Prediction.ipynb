{
 "cells": [
  {
   "cell_type": "code",
   "execution_count": 23,
   "metadata": {},
   "outputs": [],
   "source": [
    "import pandas as pd\n",
    "import numpy as np\n",
    "import matplotlib.pyplot as plt\n",
    "import seaborn as sns"
   ]
  },
  {
   "cell_type": "code",
   "execution_count": 24,
   "metadata": {},
   "outputs": [],
   "source": [
    "df_test=pd.read_csv(\"Test.csv\")\n",
    "df_train=pd.read_csv(\"Train.csv\")"
   ]
  },
  {
   "cell_type": "code",
   "execution_count": 25,
   "metadata": {},
   "outputs": [
    {
     "data": {
      "text/plain": [
       "Index(['id', 'realtionship_status', 'industry', 'genre', 'targeted_sex',\n",
       "       'average_runtime(minutes_per_week)', 'airtime', 'airlocation',\n",
       "       'ratings', 'expensive', 'money_back_guarantee'],\n",
       "      dtype='object')"
      ]
     },
     "execution_count": 25,
     "metadata": {},
     "output_type": "execute_result"
    }
   ],
   "source": [
    "df_test.columns"
   ]
  },
  {
   "cell_type": "code",
   "execution_count": 26,
   "metadata": {},
   "outputs": [
    {
     "data": {
      "text/plain": [
       "Index(['id', 'realtionship_status', 'industry', 'genre', 'targeted_sex',\n",
       "       'average_runtime(minutes_per_week)', 'airtime', 'airlocation',\n",
       "       'ratings', 'expensive', 'money_back_guarantee', 'netgain'],\n",
       "      dtype='object')"
      ]
     },
     "execution_count": 26,
     "metadata": {},
     "output_type": "execute_result"
    }
   ],
   "source": [
    "df_train.columns"
   ]
  },
  {
   "cell_type": "code",
   "execution_count": 27,
   "metadata": {},
   "outputs": [
    {
     "data": {
      "text/plain": [
       "False    19853\n",
       "True      6195\n",
       "Name: netgain, dtype: int64"
      ]
     },
     "execution_count": 27,
     "metadata": {},
     "output_type": "execute_result"
    }
   ],
   "source": [
    "df_train.netgain.value_counts()"
   ]
  },
  {
   "cell_type": "code",
   "execution_count": 28,
   "metadata": {},
   "outputs": [],
   "source": [
    "df_test['netgain']=-1"
   ]
  },
  {
   "cell_type": "code",
   "execution_count": 29,
   "metadata": {},
   "outputs": [
    {
     "data": {
      "text/plain": [
       "Index(['id', 'realtionship_status', 'industry', 'genre', 'targeted_sex',\n",
       "       'average_runtime(minutes_per_week)', 'airtime', 'airlocation',\n",
       "       'ratings', 'expensive', 'money_back_guarantee', 'netgain'],\n",
       "      dtype='object')"
      ]
     },
     "execution_count": 29,
     "metadata": {},
     "output_type": "execute_result"
    }
   ],
   "source": [
    "df_test.columns"
   ]
  },
  {
   "cell_type": "code",
   "execution_count": 30,
   "metadata": {},
   "outputs": [],
   "source": [
    "df=pd.concat([df_train,df_test],ignore_index=True)"
   ]
  },
  {
   "cell_type": "code",
   "execution_count": 31,
   "metadata": {},
   "outputs": [
    {
     "data": {
      "text/plain": [
       "(32561, 12)"
      ]
     },
     "execution_count": 31,
     "metadata": {},
     "output_type": "execute_result"
    }
   ],
   "source": [
    "df.shape"
   ]
  },
  {
   "cell_type": "code",
   "execution_count": 32,
   "metadata": {},
   "outputs": [
    {
     "data": {
      "text/plain": [
       " 0    19853\n",
       "-1     6513\n",
       " 1     6195\n",
       "Name: netgain, dtype: int64"
      ]
     },
     "execution_count": 32,
     "metadata": {},
     "output_type": "execute_result"
    }
   ],
   "source": [
    "df.netgain.value_counts()"
   ]
  },
  {
   "cell_type": "code",
   "execution_count": 33,
   "metadata": {},
   "outputs": [
    {
     "name": "stdout",
     "output_type": "stream",
     "text": [
      "<class 'pandas.core.frame.DataFrame'>\n",
      "RangeIndex: 32561 entries, 0 to 32560\n",
      "Data columns (total 12 columns):\n",
      "id                                   32561 non-null int64\n",
      "realtionship_status                  32561 non-null object\n",
      "industry                             32561 non-null object\n",
      "genre                                32561 non-null object\n",
      "targeted_sex                         32561 non-null object\n",
      "average_runtime(minutes_per_week)    32561 non-null int64\n",
      "airtime                              32561 non-null object\n",
      "airlocation                          32561 non-null object\n",
      "ratings                              32561 non-null float64\n",
      "expensive                            32561 non-null object\n",
      "money_back_guarantee                 32561 non-null object\n",
      "netgain                              32561 non-null int64\n",
      "dtypes: float64(1), int64(3), object(8)\n",
      "memory usage: 3.0+ MB\n"
     ]
    }
   ],
   "source": [
    "df.info()"
   ]
  },
  {
   "cell_type": "code",
   "execution_count": 34,
   "metadata": {},
   "outputs": [],
   "source": [
    "cols=df.columns\n",
    "cols=cols.drop(['id','netgain'])    "
   ]
  },
  {
   "cell_type": "code",
   "execution_count": 35,
   "metadata": {},
   "outputs": [
    {
     "data": {
      "text/plain": [
       "Index(['realtionship_status', 'industry', 'genre', 'targeted_sex',\n",
       "       'average_runtime(minutes_per_week)', 'airtime', 'airlocation',\n",
       "       'ratings', 'expensive', 'money_back_guarantee'],\n",
       "      dtype='object')"
      ]
     },
     "execution_count": 35,
     "metadata": {},
     "output_type": "execute_result"
    }
   ],
   "source": [
    "cols"
   ]
  },
  {
   "cell_type": "code",
   "execution_count": 36,
   "metadata": {},
   "outputs": [
    {
     "name": "stdout",
     "output_type": "stream",
     "text": [
      "7\n",
      "6\n",
      "5\n",
      "2\n",
      "3\n",
      "42\n",
      "3\n",
      "2\n",
      "42\n"
     ]
    }
   ],
   "source": [
    "print(len(df.realtionship_status.value_counts()))\n",
    "print(len(df.industry.value_counts()))\n",
    "print(len(df.genre.value_counts()))\n",
    "print(len(df.targeted_sex.value_counts()))\n",
    "print(len(df.airtime.value_counts()))\n",
    "print(len(df.airlocation.value_counts()))\n",
    "print(len(df.expensive.value_counts()))\n",
    "print(len(df.money_back_guarantee.value_counts()))\n",
    "print(len(df.airlocation.value_counts()))"
   ]
  },
  {
   "cell_type": "code",
   "execution_count": 37,
   "metadata": {},
   "outputs": [
    {
     "data": {
      "text/plain": [
       "Yes    16403\n",
       "No     16158\n",
       "Name: money_back_guarantee, dtype: int64"
      ]
     },
     "execution_count": 37,
     "metadata": {},
     "output_type": "execute_result"
    }
   ],
   "source": [
    "df.money_back_guarantee.value_counts()"
   ]
  },
  {
   "cell_type": "code",
   "execution_count": 38,
   "metadata": {},
   "outputs": [
    {
     "data": {
      "text/plain": [
       "Low       19642\n",
       "High       9098\n",
       "Medium     3821\n",
       "Name: expensive, dtype: int64"
      ]
     },
     "execution_count": 38,
     "metadata": {},
     "output_type": "execute_result"
    }
   ],
   "source": [
    "df.expensive.value_counts()"
   ]
  },
  {
   "cell_type": "code",
   "execution_count": 39,
   "metadata": {},
   "outputs": [],
   "source": [
    "df['expense']=4"
   ]
  },
  {
   "cell_type": "code",
   "execution_count": 40,
   "metadata": {},
   "outputs": [],
   "source": [
    "df.loc[df.expensive=='Low','expense']=3\n",
    "df.loc[df.expensive=='High','expense']=1\n",
    "df.loc[df.expensive=='Medium','expense']=2"
   ]
  },
  {
   "cell_type": "code",
   "execution_count": 41,
   "metadata": {},
   "outputs": [
    {
     "data": {
      "text/plain": [
       "3    19642\n",
       "1     9098\n",
       "2     3821\n",
       "Name: expense, dtype: int64"
      ]
     },
     "execution_count": 41,
     "metadata": {},
     "output_type": "execute_result"
    }
   ],
   "source": [
    "df.expense.value_counts()"
   ]
  },
  {
   "cell_type": "code",
   "execution_count": 42,
   "metadata": {},
   "outputs": [],
   "source": [
    "df=df.drop(['expensive'],axis=1)"
   ]
  },
  {
   "cell_type": "code",
   "execution_count": 43,
   "metadata": {},
   "outputs": [
    {
     "data": {
      "text/plain": [
       "Index(['id', 'realtionship_status', 'industry', 'genre', 'targeted_sex',\n",
       "       'average_runtime(minutes_per_week)', 'airtime', 'airlocation',\n",
       "       'ratings', 'money_back_guarantee', 'netgain', 'expense'],\n",
       "      dtype='object')"
      ]
     },
     "execution_count": 43,
     "metadata": {},
     "output_type": "execute_result"
    }
   ],
   "source": [
    "df.columns"
   ]
  },
  {
   "cell_type": "code",
   "execution_count": 44,
   "metadata": {
    "scrolled": true
   },
   "outputs": [],
   "source": [
    "df=pd.get_dummies(df,columns=['realtionship_status','industry','genre','targeted_sex','airtime','money_back_guarantee'])"
   ]
  },
  {
   "cell_type": "code",
   "execution_count": 45,
   "metadata": {},
   "outputs": [
    {
     "data": {
      "text/plain": [
       "Index(['id', 'average_runtime(minutes_per_week)', 'airlocation', 'ratings',\n",
       "       'netgain', 'expense', 'realtionship_status_Divorced',\n",
       "       'realtionship_status_Married-AF-spouse',\n",
       "       'realtionship_status_Married-civ-spouse',\n",
       "       'realtionship_status_Married-spouse-absent',\n",
       "       'realtionship_status_Never-married', 'realtionship_status_Separated',\n",
       "       'realtionship_status_Widowed', 'industry_Auto', 'industry_ClassAction',\n",
       "       'industry_Entertainment', 'industry_Other', 'industry_Pharma',\n",
       "       'industry_Political', 'genre_Comedy', 'genre_Direct', 'genre_Drama',\n",
       "       'genre_Infomercial', 'genre_Other', 'targeted_sex_Female',\n",
       "       'targeted_sex_Male', 'airtime_Daytime', 'airtime_Morning',\n",
       "       'airtime_Primetime', 'money_back_guarantee_No',\n",
       "       'money_back_guarantee_Yes'],\n",
       "      dtype='object')"
      ]
     },
     "execution_count": 45,
     "metadata": {},
     "output_type": "execute_result"
    }
   ],
   "source": [
    "df.columns"
   ]
  },
  {
   "cell_type": "code",
   "execution_count": 50,
   "metadata": {},
   "outputs": [
    {
     "data": {
      "text/plain": [
       "1"
      ]
     },
     "execution_count": 50,
     "metadata": {},
     "output_type": "execute_result"
    }
   ],
   "source": []
  }
 ],
 "metadata": {
  "kernelspec": {
   "display_name": "Python 3",
   "language": "python",
   "name": "python3"
  },
  "language_info": {
   "codemirror_mode": {
    "name": "ipython",
    "version": 3
   },
   "file_extension": ".py",
   "mimetype": "text/x-python",
   "name": "python",
   "nbconvert_exporter": "python",
   "pygments_lexer": "ipython3",
   "version": "3.5.4"
  }
 },
 "nbformat": 4,
 "nbformat_minor": 2
}
